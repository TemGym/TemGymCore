{
 "cells": [
  {
   "cell_type": "code",
   "execution_count": 1,
   "id": "50789dee",
   "metadata": {},
   "outputs": [],
   "source": [
    "import matplotlib.pyplot as plt\n",
    "import jax.numpy as jnp\n",
    "\n",
    "from jaxgym.components import PointSource\n",
    "from jaxgym.run import solve_model\n",
    "from jaxgym.ray import Ray\n",
    "from jaxgym.transfer import transfer_rays\n",
    "from microscope_calibration.components import Detector"
   ]
  },
  {
   "cell_type": "code",
   "execution_count": null,
   "id": "912e5b03",
   "metadata": {},
   "outputs": [
    {
     "name": "stdout",
     "output_type": "stream",
     "text": [
      "[[5.e-04 0.e+00 1.e-03 0.e+00 1.e+00]]\n"
     ]
    }
   ],
   "source": [
    "det_shape = (128, 128)\n",
    "det_pixel_size = (1e-4, 1e-4)\n",
    "\n",
    "\n",
    "src = PointSource(z=jnp.zeros((1)), \n",
    "                          semi_conv=1e-3)\n",
    "det = Detector(\n",
    "    z=jnp.array([0.5]),\n",
    "    det_shape=det_shape,\n",
    "    det_pixel_size=det_pixel_size,\n",
    "    flip_y=False,\n",
    ")\n",
    "\n",
    "model = (src, det)"
   ]
  }
 ],
 "metadata": {
  "kernelspec": {
   "display_name": "jaxgym",
   "language": "python",
   "name": "python3"
  },
  "language_info": {
   "codemirror_mode": {
    "name": "ipython",
    "version": 3
   },
   "file_extension": ".py",
   "mimetype": "text/x-python",
   "name": "python",
   "nbconvert_exporter": "python",
   "pygments_lexer": "ipython3",
   "version": "3.12.11"
  }
 },
 "nbformat": 4,
 "nbformat_minor": 5
}
