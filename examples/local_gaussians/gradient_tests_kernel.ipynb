{
 "cells": [
  {
   "cell_type": "code",
   "execution_count": 1,
   "id": "91e944ca",
   "metadata": {},
   "outputs": [],
   "source": [
    "import time\n",
    "import jax\n",
    "jax.config.update(\"jax_enable_x64\", True)  # Ensure float64 so kernel dtypes match\n",
    "import jax.numpy as jnp\n",
    "from temgym_core.evaluate import eval_gaussians_differentiable\n",
    "\n",
    "import os\n",
    "os.environ['XLA_PYTHON_CLIENT_MEM_FRACTION'] = '0.5' "
   ]
  },
  {
   "cell_type": "code",
   "execution_count": null,
   "id": "2c2b1198",
   "metadata": {},
   "outputs": [
    {
     "name": "stderr",
     "output_type": "stream",
     "text": [
      "2025-09-25 14:45:01.557020: W external/xla/xla/tsl/framework/bfc_allocator.cc:501] Allocator (GPU_0_bfc) ran out of memory trying to allocate 4.00GiB (rounded to 4294967296)requested by op \n",
      "2025-09-25 14:45:01.557343: W external/xla/xla/tsl/framework/bfc_allocator.cc:512] *******************************____*_*__***********____***********__****************************____\n",
      "E0925 14:45:01.557401 3869473 pjrt_stream_executor_client.cc:3026] Execution of replica 0 failed: RESOURCE_EXHAUSTED: Out of memory while trying to allocate 4294967296 bytes. [tf-allocator-allocation-error='']\n"
     ]
    },
    {
     "ename": "XlaRuntimeError",
     "evalue": "RESOURCE_EXHAUSTED: Out of memory while trying to allocate 4294967296 bytes.",
     "output_type": "error",
     "traceback": [
      "\u001b[31m---------------------------------------------------------------------------\u001b[39m",
      "\u001b[31mJaxStackTraceBeforeTransformation\u001b[39m         Traceback (most recent call last)",
      "\u001b[36mFile \u001b[39m\u001b[32m<frozen runpy>:198\u001b[39m, in \u001b[36m_run_module_as_main\u001b[39m\u001b[34m()\u001b[39m\n",
      "\u001b[36mFile \u001b[39m\u001b[32m<frozen runpy>:88\u001b[39m, in \u001b[36m_run_code\u001b[39m\u001b[34m()\u001b[39m\n",
      "\u001b[36mFile \u001b[39m\u001b[32m/nobackup/dl277493/.pyenv/versions/JaxGym/lib/python3.12/site-packages/ipykernel_launcher.py:18\u001b[39m\n\u001b[32m     16\u001b[39m \u001b[38;5;28;01mfrom\u001b[39;00m\u001b[38;5;250m \u001b[39m\u001b[34;01mipykernel\u001b[39;00m\u001b[38;5;250m \u001b[39m\u001b[38;5;28;01mimport\u001b[39;00m kernelapp \u001b[38;5;28;01mas\u001b[39;00m app\n\u001b[32m---> \u001b[39m\u001b[32m18\u001b[39m app.launch_new_instance()\n",
      "\u001b[36mFile \u001b[39m\u001b[32m/nobackup/dl277493/.pyenv/versions/JaxGym/lib/python3.12/site-packages/traitlets/config/application.py:1075\u001b[39m, in \u001b[36mlaunch_instance\u001b[39m\u001b[34m()\u001b[39m\n\u001b[32m   1074\u001b[39m app.initialize(argv)\n\u001b[32m-> \u001b[39m\u001b[32m1075\u001b[39m app.start()\n",
      "\u001b[36mFile \u001b[39m\u001b[32m/nobackup/dl277493/.pyenv/versions/JaxGym/lib/python3.12/site-packages/ipykernel/kernelapp.py:739\u001b[39m, in \u001b[36mstart\u001b[39m\u001b[34m()\u001b[39m\n\u001b[32m    738\u001b[39m \u001b[38;5;28;01mtry\u001b[39;00m:\n\u001b[32m--> \u001b[39m\u001b[32m739\u001b[39m     \u001b[38;5;28mself\u001b[39m.io_loop.start()\n\u001b[32m    740\u001b[39m \u001b[38;5;28;01mexcept\u001b[39;00m \u001b[38;5;167;01mKeyboardInterrupt\u001b[39;00m:\n",
      "\u001b[36mFile \u001b[39m\u001b[32m/nobackup/dl277493/.pyenv/versions/JaxGym/lib/python3.12/site-packages/tornado/platform/asyncio.py:205\u001b[39m, in \u001b[36mstart\u001b[39m\u001b[34m()\u001b[39m\n\u001b[32m    204\u001b[39m \u001b[38;5;28;01mdef\u001b[39;00m\u001b[38;5;250m \u001b[39m\u001b[34mstart\u001b[39m(\u001b[38;5;28mself\u001b[39m) -> \u001b[38;5;28;01mNone\u001b[39;00m:\n\u001b[32m--> \u001b[39m\u001b[32m205\u001b[39m     \u001b[38;5;28mself\u001b[39m.asyncio_loop.run_forever()\n",
      "\u001b[36mFile \u001b[39m\u001b[32m/nobackup/dl277493/.pyenv/versions/3.12.6/lib/python3.12/asyncio/base_events.py:641\u001b[39m, in \u001b[36mrun_forever\u001b[39m\u001b[34m()\u001b[39m\n\u001b[32m    640\u001b[39m \u001b[38;5;28;01mwhile\u001b[39;00m \u001b[38;5;28;01mTrue\u001b[39;00m:\n\u001b[32m--> \u001b[39m\u001b[32m641\u001b[39m     \u001b[38;5;28mself\u001b[39m._run_once()\n\u001b[32m    642\u001b[39m     \u001b[38;5;28;01mif\u001b[39;00m \u001b[38;5;28mself\u001b[39m._stopping:\n",
      "\u001b[36mFile \u001b[39m\u001b[32m/nobackup/dl277493/.pyenv/versions/3.12.6/lib/python3.12/asyncio/base_events.py:1986\u001b[39m, in \u001b[36m_run_once\u001b[39m\u001b[34m()\u001b[39m\n\u001b[32m   1985\u001b[39m     \u001b[38;5;28;01melse\u001b[39;00m:\n\u001b[32m-> \u001b[39m\u001b[32m1986\u001b[39m         handle._run()\n\u001b[32m   1987\u001b[39m handle = \u001b[38;5;28;01mNone\u001b[39;00m\n",
      "\u001b[36mFile \u001b[39m\u001b[32m/nobackup/dl277493/.pyenv/versions/3.12.6/lib/python3.12/asyncio/events.py:88\u001b[39m, in \u001b[36m_run\u001b[39m\u001b[34m()\u001b[39m\n\u001b[32m     87\u001b[39m \u001b[38;5;28;01mtry\u001b[39;00m:\n\u001b[32m---> \u001b[39m\u001b[32m88\u001b[39m     \u001b[38;5;28mself\u001b[39m._context.run(\u001b[38;5;28mself\u001b[39m._callback, *\u001b[38;5;28mself\u001b[39m._args)\n\u001b[32m     89\u001b[39m \u001b[38;5;28;01mexcept\u001b[39;00m (\u001b[38;5;167;01mSystemExit\u001b[39;00m, \u001b[38;5;167;01mKeyboardInterrupt\u001b[39;00m):\n",
      "\u001b[36mFile \u001b[39m\u001b[32m/nobackup/dl277493/.pyenv/versions/JaxGym/lib/python3.12/site-packages/ipykernel/kernelbase.py:545\u001b[39m, in \u001b[36mdispatch_queue\u001b[39m\u001b[34m()\u001b[39m\n\u001b[32m    544\u001b[39m \u001b[38;5;28;01mtry\u001b[39;00m:\n\u001b[32m--> \u001b[39m\u001b[32m545\u001b[39m     \u001b[38;5;28;01mawait\u001b[39;00m \u001b[38;5;28mself\u001b[39m.process_one()\n\u001b[32m    546\u001b[39m \u001b[38;5;28;01mexcept\u001b[39;00m \u001b[38;5;167;01mException\u001b[39;00m:\n",
      "\u001b[36mFile \u001b[39m\u001b[32m/nobackup/dl277493/.pyenv/versions/JaxGym/lib/python3.12/site-packages/ipykernel/kernelbase.py:534\u001b[39m, in \u001b[36mprocess_one\u001b[39m\u001b[34m()\u001b[39m\n\u001b[32m    533\u001b[39m         \u001b[38;5;28;01mreturn\u001b[39;00m\n\u001b[32m--> \u001b[39m\u001b[32m534\u001b[39m \u001b[38;5;28;01mawait\u001b[39;00m dispatch(*args)\n",
      "\u001b[36mFile \u001b[39m\u001b[32m/nobackup/dl277493/.pyenv/versions/JaxGym/lib/python3.12/site-packages/ipykernel/kernelbase.py:437\u001b[39m, in \u001b[36mdispatch_shell\u001b[39m\u001b[34m()\u001b[39m\n\u001b[32m    436\u001b[39m     \u001b[38;5;28;01mif\u001b[39;00m inspect.isawaitable(result):\n\u001b[32m--> \u001b[39m\u001b[32m437\u001b[39m         \u001b[38;5;28;01mawait\u001b[39;00m result\n\u001b[32m    438\u001b[39m \u001b[38;5;28;01mexcept\u001b[39;00m \u001b[38;5;167;01mException\u001b[39;00m:\n",
      "\u001b[36mFile \u001b[39m\u001b[32m/nobackup/dl277493/.pyenv/versions/JaxGym/lib/python3.12/site-packages/ipykernel/ipkernel.py:362\u001b[39m, in \u001b[36mexecute_request\u001b[39m\u001b[34m()\u001b[39m\n\u001b[32m    361\u001b[39m \u001b[38;5;28mself\u001b[39m._associate_new_top_level_threads_with(parent_header)\n\u001b[32m--> \u001b[39m\u001b[32m362\u001b[39m \u001b[38;5;28;01mawait\u001b[39;00m \u001b[38;5;28msuper\u001b[39m().execute_request(stream, ident, parent)\n",
      "\u001b[36mFile \u001b[39m\u001b[32m/nobackup/dl277493/.pyenv/versions/JaxGym/lib/python3.12/site-packages/ipykernel/kernelbase.py:778\u001b[39m, in \u001b[36mexecute_request\u001b[39m\u001b[34m()\u001b[39m\n\u001b[32m    777\u001b[39m \u001b[38;5;28;01mif\u001b[39;00m inspect.isawaitable(reply_content):\n\u001b[32m--> \u001b[39m\u001b[32m778\u001b[39m     reply_content = \u001b[38;5;28;01mawait\u001b[39;00m reply_content\n\u001b[32m    780\u001b[39m \u001b[38;5;66;03m# Flush output before sending the reply.\u001b[39;00m\n",
      "\u001b[36mFile \u001b[39m\u001b[32m/nobackup/dl277493/.pyenv/versions/JaxGym/lib/python3.12/site-packages/ipykernel/ipkernel.py:449\u001b[39m, in \u001b[36mdo_execute\u001b[39m\u001b[34m()\u001b[39m\n\u001b[32m    448\u001b[39m \u001b[38;5;28;01mif\u001b[39;00m accepts_params[\u001b[33m\"\u001b[39m\u001b[33mcell_id\u001b[39m\u001b[33m\"\u001b[39m]:\n\u001b[32m--> \u001b[39m\u001b[32m449\u001b[39m     res = shell.run_cell(\n\u001b[32m    450\u001b[39m         code,\n\u001b[32m    451\u001b[39m         store_history=store_history,\n\u001b[32m    452\u001b[39m         silent=silent,\n\u001b[32m    453\u001b[39m         cell_id=cell_id,\n\u001b[32m    454\u001b[39m     )\n\u001b[32m    455\u001b[39m \u001b[38;5;28;01melse\u001b[39;00m:\n",
      "\u001b[36mFile \u001b[39m\u001b[32m/nobackup/dl277493/.pyenv/versions/JaxGym/lib/python3.12/site-packages/ipykernel/zmqshell.py:549\u001b[39m, in \u001b[36mrun_cell\u001b[39m\u001b[34m()\u001b[39m\n\u001b[32m    548\u001b[39m \u001b[38;5;28mself\u001b[39m._last_traceback = \u001b[38;5;28;01mNone\u001b[39;00m\n\u001b[32m--> \u001b[39m\u001b[32m549\u001b[39m \u001b[38;5;28;01mreturn\u001b[39;00m \u001b[38;5;28msuper\u001b[39m().run_cell(*args, **kwargs)\n",
      "\u001b[36mFile \u001b[39m\u001b[32m/nobackup/dl277493/.pyenv/versions/JaxGym/lib/python3.12/site-packages/IPython/core/interactiveshell.py:3047\u001b[39m, in \u001b[36mrun_cell\u001b[39m\u001b[34m()\u001b[39m\n\u001b[32m   3046\u001b[39m \u001b[38;5;28;01mtry\u001b[39;00m:\n\u001b[32m-> \u001b[39m\u001b[32m3047\u001b[39m     result = \u001b[38;5;28mself\u001b[39m._run_cell(\n\u001b[32m   3048\u001b[39m         raw_cell, store_history, silent, shell_futures, cell_id\n\u001b[32m   3049\u001b[39m     )\n\u001b[32m   3050\u001b[39m \u001b[38;5;28;01mfinally\u001b[39;00m:\n",
      "\u001b[36mFile \u001b[39m\u001b[32m/nobackup/dl277493/.pyenv/versions/JaxGym/lib/python3.12/site-packages/IPython/core/interactiveshell.py:3102\u001b[39m, in \u001b[36m_run_cell\u001b[39m\u001b[34m()\u001b[39m\n\u001b[32m   3101\u001b[39m \u001b[38;5;28;01mtry\u001b[39;00m:\n\u001b[32m-> \u001b[39m\u001b[32m3102\u001b[39m     result = runner(coro)\n\u001b[32m   3103\u001b[39m \u001b[38;5;28;01mexcept\u001b[39;00m \u001b[38;5;167;01mBaseException\u001b[39;00m \u001b[38;5;28;01mas\u001b[39;00m e:\n",
      "\u001b[36mFile \u001b[39m\u001b[32m/nobackup/dl277493/.pyenv/versions/JaxGym/lib/python3.12/site-packages/IPython/core/async_helpers.py:128\u001b[39m, in \u001b[36m_pseudo_sync_runner\u001b[39m\u001b[34m()\u001b[39m\n\u001b[32m    127\u001b[39m \u001b[38;5;28;01mtry\u001b[39;00m:\n\u001b[32m--> \u001b[39m\u001b[32m128\u001b[39m     coro.send(\u001b[38;5;28;01mNone\u001b[39;00m)\n\u001b[32m    129\u001b[39m \u001b[38;5;28;01mexcept\u001b[39;00m \u001b[38;5;167;01mStopIteration\u001b[39;00m \u001b[38;5;28;01mas\u001b[39;00m exc:\n",
      "\u001b[36mFile \u001b[39m\u001b[32m/nobackup/dl277493/.pyenv/versions/JaxGym/lib/python3.12/site-packages/IPython/core/interactiveshell.py:3306\u001b[39m, in \u001b[36mrun_cell_async\u001b[39m\u001b[34m()\u001b[39m\n\u001b[32m   3303\u001b[39m interactivity = \u001b[33m\"\u001b[39m\u001b[33mnone\u001b[39m\u001b[33m\"\u001b[39m \u001b[38;5;28;01mif\u001b[39;00m silent \u001b[38;5;28;01melse\u001b[39;00m \u001b[38;5;28mself\u001b[39m.ast_node_interactivity\n\u001b[32m-> \u001b[39m\u001b[32m3306\u001b[39m has_raised = \u001b[38;5;28;01mawait\u001b[39;00m \u001b[38;5;28mself\u001b[39m.run_ast_nodes(code_ast.body, cell_name,\n\u001b[32m   3307\u001b[39m        interactivity=interactivity, compiler=compiler, result=result)\n\u001b[32m   3309\u001b[39m \u001b[38;5;28mself\u001b[39m.last_execution_succeeded = \u001b[38;5;129;01mnot\u001b[39;00m has_raised\n",
      "\u001b[36mFile \u001b[39m\u001b[32m/nobackup/dl277493/.pyenv/versions/JaxGym/lib/python3.12/site-packages/IPython/core/interactiveshell.py:3489\u001b[39m, in \u001b[36mrun_ast_nodes\u001b[39m\u001b[34m()\u001b[39m\n\u001b[32m   3488\u001b[39m     asy = compare(code)\n\u001b[32m-> \u001b[39m\u001b[32m3489\u001b[39m \u001b[38;5;28;01mif\u001b[39;00m \u001b[38;5;28;01mawait\u001b[39;00m \u001b[38;5;28mself\u001b[39m.run_code(code, result, async_=asy):\n\u001b[32m   3490\u001b[39m     \u001b[38;5;28;01mreturn\u001b[39;00m \u001b[38;5;28;01mTrue\u001b[39;00m\n",
      "\u001b[36mFile \u001b[39m\u001b[32m/nobackup/dl277493/.pyenv/versions/JaxGym/lib/python3.12/site-packages/IPython/core/interactiveshell.py:3549\u001b[39m, in \u001b[36mrun_code\u001b[39m\u001b[34m()\u001b[39m\n\u001b[32m   3548\u001b[39m     \u001b[38;5;28;01melse\u001b[39;00m:\n\u001b[32m-> \u001b[39m\u001b[32m3549\u001b[39m         exec(code_obj, \u001b[38;5;28mself\u001b[39m.user_global_ns, \u001b[38;5;28mself\u001b[39m.user_ns)\n\u001b[32m   3550\u001b[39m \u001b[38;5;28;01mfinally\u001b[39;00m:\n\u001b[32m   3551\u001b[39m     \u001b[38;5;66;03m# Reset our crash handler in place\u001b[39;00m\n",
      "\u001b[36mCell\u001b[39m\u001b[36m \u001b[39m\u001b[32mIn[2]\u001b[39m\u001b[32m, line 36\u001b[39m\n\u001b[32m     35\u001b[39m \u001b[38;5;66;03m# compute grad wrt r_m\u001b[39;00m\n\u001b[32m---> \u001b[39m\u001b[32m36\u001b[39m grad_r_m = jax.grad(loss, argnums=\u001b[32m0\u001b[39m)(r_m, C, eta, Q_inv, k, r2)\n\u001b[32m     38\u001b[39m \u001b[38;5;66;03m# reverse-mode directional derivative = <grad, dr>\u001b[39;00m\n",
      "\u001b[36mCell\u001b[39m\u001b[36m \u001b[39m\u001b[32mIn[2]\u001b[39m\u001b[32m, line 29\u001b[39m, in \u001b[36mloss\u001b[39m\u001b[34m()\u001b[39m\n\u001b[32m     28\u001b[39m \u001b[38;5;28;01mdef\u001b[39;00m\u001b[38;5;250m \u001b[39m\u001b[34mloss\u001b[39m(r_m, C, eta, Q_inv, k, r2):\n\u001b[32m---> \u001b[39m\u001b[32m29\u001b[39m     E = forward_E(r_m, C, eta, Q_inv, k, r2)\n\u001b[32m     30\u001b[39m     \u001b[38;5;28;01mreturn\u001b[39;00m jnp.mean((jnp.abs(E)**\u001b[32m2\u001b[39m - I_meas)**\u001b[32m2\u001b[39m)\n",
      "\u001b[36mCell\u001b[39m\u001b[36m \u001b[39m\u001b[32mIn[2]\u001b[39m\u001b[32m, line 23\u001b[39m, in \u001b[36mforward_E\u001b[39m\u001b[34m()\u001b[39m\n\u001b[32m     22\u001b[39m \u001b[38;5;28;01mdef\u001b[39;00m\u001b[38;5;250m \u001b[39m\u001b[34mforward_E\u001b[39m(r_m, C, eta, Q_inv, k, r2):\n\u001b[32m---> \u001b[39m\u001b[32m23\u001b[39m     \u001b[38;5;28;01mreturn\u001b[39;00m eval_gaussians_differentiable(r_m, C, eta, Q_inv, k, r2)\n",
      "\u001b[31mJaxStackTraceBeforeTransformation\u001b[39m: jaxlib.xla_extension.XlaRuntimeError: RESOURCE_EXHAUSTED: Out of memory while trying to allocate 4294967296 bytes.\n\nThe preceding stack trace is the source of the JAX operation that, once transformed by JAX, triggered the following exception.\n\n--------------------",
      "\nThe above exception was the direct cause of the following exception:\n",
      "\u001b[31mXlaRuntimeError\u001b[39m                           Traceback (most recent call last)",
      "\u001b[36mCell\u001b[39m\u001b[36m \u001b[39m\u001b[32mIn[2]\u001b[39m\u001b[32m, line 36\u001b[39m\n\u001b[32m     33\u001b[39m dr = jax.random.normal(key, r_m.shape, dtype=jnp.float64) * \u001b[32m1e-3\u001b[39m\n\u001b[32m     35\u001b[39m \u001b[38;5;66;03m# compute grad wrt r_m\u001b[39;00m\n\u001b[32m---> \u001b[39m\u001b[32m36\u001b[39m grad_r_m = \u001b[43mjax\u001b[49m\u001b[43m.\u001b[49m\u001b[43mgrad\u001b[49m\u001b[43m(\u001b[49m\u001b[43mloss\u001b[49m\u001b[43m,\u001b[49m\u001b[43m \u001b[49m\u001b[43margnums\u001b[49m\u001b[43m=\u001b[49m\u001b[32;43m0\u001b[39;49m\u001b[43m)\u001b[49m\u001b[43m(\u001b[49m\u001b[43mr_m\u001b[49m\u001b[43m,\u001b[49m\u001b[43m \u001b[49m\u001b[43mC\u001b[49m\u001b[43m,\u001b[49m\u001b[43m \u001b[49m\u001b[43meta\u001b[49m\u001b[43m,\u001b[49m\u001b[43m \u001b[49m\u001b[43mQ_inv\u001b[49m\u001b[43m,\u001b[49m\u001b[43m \u001b[49m\u001b[43mk\u001b[49m\u001b[43m,\u001b[49m\u001b[43m \u001b[49m\u001b[43mr2\u001b[49m\u001b[43m)\u001b[49m\n\u001b[32m     38\u001b[39m \u001b[38;5;66;03m# reverse-mode directional derivative = <grad, dr>\u001b[39;00m\n\u001b[32m     39\u001b[39m dd_rev = jnp.vdot(grad_r_m, dr).real  \u001b[38;5;66;03m# real scalar\u001b[39;00m\n",
      "    \u001b[31m[... skipping hidden 14 frame]\u001b[39m\n",
      "\u001b[36mFile \u001b[39m\u001b[32m~/Microscope-Calibration/TemGymCore/src/temgym_core/evaluate.py:262\u001b[39m, in \u001b[36m_bwd\u001b[39m\u001b[34m(static, cotangent)\u001b[39m\n\u001b[32m    260\u001b[39m \u001b[38;5;66;03m# Build VJP from the pure-JAX reference\u001b[39;00m\n\u001b[32m    261\u001b[39m _, vjp_fun = jax.vjp(ref, r_m, C, eta, Q_inv, k, r2)\n\u001b[32m--> \u001b[39m\u001b[32m262\u001b[39m grads = \u001b[43mvjp_fun\u001b[49m\u001b[43m(\u001b[49m\u001b[43mcotangent\u001b[49m\u001b[43m)\u001b[49m   \u001b[38;5;66;03m# tuple matching inputs\u001b[39;00m\n\u001b[32m    264\u001b[39m \u001b[38;5;66;03m# No gradients for static kwargs\u001b[39;00m\n\u001b[32m    265\u001b[39m \u001b[38;5;28;01mreturn\u001b[39;00m (*grads,)\n",
      "    \u001b[31m[... skipping hidden 15 frame]\u001b[39m\n",
      "\u001b[36mFile \u001b[39m\u001b[32m/nobackup/dl277493/.pyenv/versions/JaxGym/lib/python3.12/site-packages/jax/_src/interpreters/pxla.py:1296\u001b[39m, in \u001b[36mExecuteReplicated.__call__\u001b[39m\u001b[34m(self, *args)\u001b[39m\n\u001b[32m   1294\u001b[39m   \u001b[38;5;28mself\u001b[39m._handle_token_bufs(result_token_bufs, sharded_runtime_token)\n\u001b[32m   1295\u001b[39m \u001b[38;5;28;01melse\u001b[39;00m:\n\u001b[32m-> \u001b[39m\u001b[32m1296\u001b[39m   results = \u001b[38;5;28;43mself\u001b[39;49m\u001b[43m.\u001b[49m\u001b[43mxla_executable\u001b[49m\u001b[43m.\u001b[49m\u001b[43mexecute_sharded\u001b[49m\u001b[43m(\u001b[49m\u001b[43minput_bufs\u001b[49m\u001b[43m)\u001b[49m\n\u001b[32m   1298\u001b[39m \u001b[38;5;28;01mif\u001b[39;00m dispatch.needs_check_special():\n\u001b[32m   1299\u001b[39m   out_arrays = results.disassemble_into_single_device_arrays()\n",
      "\u001b[31mXlaRuntimeError\u001b[39m: RESOURCE_EXHAUSTED: Out of memory while trying to allocate 4294967296 bytes."
     ]
    },
    {
     "ename": "",
     "evalue": "",
     "output_type": "error",
     "traceback": [
      "\u001b[1;31mThe Kernel crashed while executing code in the current cell or a previous cell. \n",
      "\u001b[1;31mPlease review the code in the cell(s) to identify a possible cause of the failure. \n",
      "\u001b[1;31mClick <a href='https://aka.ms/vscodeJupyterKernelCrash'>here</a> for more info. \n",
      "\u001b[1;31mView Jupyter <a href='command:jupyter.viewOutput'>log</a> for further details."
     ]
    }
   ],
   "source": [
    "# ----- use the differentiable wrapper that has @custom_vjp: eval_gaussians_differentiable -----\n",
    "# assumes you already defined:\n",
    "# - eval_gaussians_ref(...)\n",
    "# - eval_gaussians_gpu_kernel(...)\n",
    "# - eval_gaussians_differentiable = @custom_vjp wrapper using kernel (fwd) + ref (bwd)\n",
    "\n",
    "key = jax.random.key(0)\n",
    "P_side = 128\n",
    "P = P_side * P_side\n",
    "N = 2**13\n",
    "\n",
    "r2 = jax.random.normal(key, (P, 2), dtype=jnp.float64)\n",
    "r_m   = jax.random.normal(key, (N, 2), dtype=jnp.float64)\n",
    "k     = jax.random.normal(key, (N,),   dtype=jnp.float64)\n",
    "C     = (jax.random.normal(key, (N,), dtype=jnp.float64)\n",
    "         + 1j * jax.random.normal(key, (N,), dtype=jnp.float64)).astype(jnp.complex128)\n",
    "eta   = (jax.random.normal(key, (N,2), dtype=jnp.float64)\n",
    "         + 1j * jax.random.normal(key, (N,2), dtype=jnp.float64)).astype(jnp.complex128)\n",
    "Q_inv = (jax.random.normal(key, (N,2,2), dtype=jnp.float64)\n",
    "         + 1j * jax.random.normal(key, (N,2,2), dtype=jnp.float64)).astype(jnp.complex128)\n",
    "\n",
    "def forward_E(r_m, C, eta, Q_inv, k, r2):\n",
    "    return eval_gaussians_differentiable(r_m, C, eta, Q_inv, k, r2)\n",
    "\n",
    "E0 = forward_E(r_m, C, eta, Q_inv, k, r2)\n",
    "I_meas = (jnp.abs(E0)**2).block_until_ready()\n",
    "\n",
    "def loss(r_m, C, eta, Q_inv, k, r2):\n",
    "    E = forward_E(r_m, C, eta, Q_inv, k, r2)\n",
    "    return jnp.mean((jnp.abs(E)**2 - I_meas)**2)\n",
    "\n",
    "# --- Reverse-mode directional derivative check on r_m ---\n",
    "dr = jax.random.normal(key, r_m.shape, dtype=jnp.float64) * 1e-3\n",
    "\n",
    "# compute grad wrt r_m\n",
    "grad_r_m = jax.grad(loss, argnums=0)(r_m, C, eta, Q_inv, k, r2)\n",
    "\n",
    "# reverse-mode directional derivative = <grad, dr>\n",
    "dd_rev = jnp.vdot(grad_r_m, dr).real  # real scalar\n",
    "\n",
    "# finite difference for comparison\n",
    "eps = 1e-4\n",
    "fd = (loss(r_m + eps*dr, C, eta, Q_inv, k, r2) - loss(r_m, C, eta, Q_inv, k, r2)) / eps\n",
    "print(\"directional derivative (reverse-mode) vs finite diff:\",\n",
    "      float(dd_rev), float(fd))\n",
    "\n",
    "# --- Timing reverse-mode ---\n",
    "loss_jit = jax.jit(loss)\n",
    "t0 = time.time(); v = loss_jit(r_m, C, eta, Q_inv, k, r2).block_until_ready(); t1 = time.time()\n",
    "print(f\"Loss fwd (jit; first call compiles): {t1-t0:.3f}s  value={float(v):.6e}\")\n",
    "\n",
    "grads_jit = jax.jit(jax.grad(loss, argnums=(0,1,2,3,4)))\n",
    "t0 = time.time(); g = grads_jit(r_m, C, eta, Q_inv, k, r2)\n",
    "jax.tree_util.tree_map(lambda x: x.block_until_ready(), g); t1 = time.time()\n",
    "print(f\"Grad (jit; first call compiles): {t1-t0:.3f}s\")\n"
   ]
  },
  {
   "cell_type": "code",
   "execution_count": null,
   "id": "fd223aa3",
   "metadata": {},
   "outputs": [
    {
     "name": "stdout",
     "output_type": "stream",
     "text": [
      "Grad (jit): 0.210s\n"
     ]
    }
   ],
   "source": [
    "t0 = time.time(); g = grads_jit(r_m, C, eta, Q_inv, k, r2)\n",
    "jax.tree_util.tree_map(lambda x: x.block_until_ready(), g); t1 = time.time()\n",
    "print(f\"Grad (jit): {t1-t0:.3f}s\")"
   ]
  }
 ],
 "metadata": {
  "kernelspec": {
   "display_name": "JaxGym (3.12.6)",
   "language": "python",
   "name": "python3"
  },
  "language_info": {
   "codemirror_mode": {
    "name": "ipython",
    "version": 3
   },
   "file_extension": ".py",
   "mimetype": "text/x-python",
   "name": "python",
   "nbconvert_exporter": "python",
   "pygments_lexer": "ipython3",
   "version": "3.12.6"
  }
 },
 "nbformat": 4,
 "nbformat_minor": 5
}
