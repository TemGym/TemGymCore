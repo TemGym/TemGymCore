{
 "cells": [
  {
   "cell_type": "code",
   "execution_count": null,
   "id": "9d45fe65",
   "metadata": {},
   "outputs": [],
   "source": [
    "import os\n",
    "os.environ['JAX_ENABLE_X64'] = '1'\n",
    "os.environ['XLA_PYTHON_CLIENT_MEM_FRACTION'] = '0.5'"
   ]
  },
  {
   "cell_type": "code",
   "execution_count": null,
   "id": "d8ed618f",
   "metadata": {},
   "outputs": [],
   "source": [
    "import numpy as np\n",
    "import jax.numpy as jnp\n",
    "from temgym_core.components import Detector\n",
    "from temgym_core.gaussian import make_gaussian_image, GaussianRay\n",
    "from temgym_core.source import ParallelBeam\n",
    "from temgym_core.components import Component\n",
    "import jax_dataclasses as jdc\n",
    "from temgym_core.ray import Ray"
   ]
  },
  {
   "cell_type": "code",
   "execution_count": null,
   "id": "4ea5238f",
   "metadata": {},
   "outputs": [],
   "source": [
    "%matplotlib widget\n",
    "import matplotlib.pyplot as plt"
   ]
  },
  {
   "cell_type": "code",
   "execution_count": null,
   "id": "525c584f",
   "metadata": {},
   "outputs": [],
   "source": [
    "# Detector setup\n",
    "pixel_size = 5e-4\n",
    "shape = (512, 512)\n",
    "\n",
    "@jdc.pytree_dataclass\n",
    "class CrazyLens(Component):\n",
    "    z: float\n",
    "    focal_length: float\n",
    "\n",
    "    def __call__(self, ray: Ray):\n",
    "        f = self.focal_length\n",
    "\n",
    "        x, y, dx, dy = ray.x, ray.y, ray.dx, ray.dy\n",
    "\n",
    "        new_dx = (-x ** 2) / f + dx\n",
    "        new_dy = (-y ** 2) / f + dy\n",
    "\n",
    "        pathlength = ray.pathlength - (x**2 + y**2) / (2 * f)\n",
    "        one = ray._one * 1.0\n",
    "\n",
    "        return Ray(\n",
    "            x=x, y=y, dx=new_dx, dy=new_dy, _one=one, pathlength=pathlength, z=ray.z\n",
    "        )"
   ]
  },
  {
   "cell_type": "code",
   "execution_count": null,
   "id": "82618e98",
   "metadata": {},
   "outputs": [],
   "source": [
    "ray = Ray(x=0.000, y=0.00, dx=0., dy=0., _one=1.0, pathlength=0.0, z=0.0)\n",
    "new_ray = CrazyLens(z=0.0, focal_length=5e-3)(ray)\n",
    "\n",
    "import jax\n",
    "from temgym_core.utils import custom_jacobian_matrix\n",
    "new_ray_abcd = jax.jacobian(CrazyLens(z=0.0, focal_length=5e-3))(ray)\n",
    "new_ray_abcd = custom_jacobian_matrix(new_ray_abcd)\n",
    "\n",
    "print(new_ray_abcd)\n"
   ]
  },
  {
   "cell_type": "code",
   "execution_count": null,
   "id": "f977e10f",
   "metadata": {},
   "outputs": [],
   "source": [
    "# Model Creation\n",
    "f = 5e-3\n",
    "defocus = 2e-1\n",
    "z2 = (1 / f) ** -1 + defocus\n",
    "model = [CrazyLens(z=0.0, focal_length=f), Detector(z=z2, pixel_size=(pixel_size, pixel_size), shape=shape)]"
   ]
  },
  {
   "cell_type": "code",
   "execution_count": null,
   "id": "aa1a74c5",
   "metadata": {},
   "outputs": [],
   "source": [
    "num_rays = 1\n",
    "wavelength = 1e-8\n",
    "wo = 0.5e-3\n",
    "k = 2 * jnp.pi / wavelength\n",
    "\n",
    "beam = ParallelBeam(0., 0.5e-3)\n",
    "base_rays = beam.make_rays(num_rays, random=False)\n",
    "num_rays = jnp.size(base_rays.x)\n",
    "\n",
    "# Gaussian Beam Input\n",
    "xs = jnp.array(np.asarray([base_rays.x]))\n",
    "ys = jnp.array(np.asarray([base_rays.y]))\n",
    "dxs = jnp.array(np.asarray([base_rays.dx]))\n",
    "dys = jnp.array(np.asarray([base_rays.dy]))\n",
    "zs = jnp.array(np.zeros(num_rays))\n",
    "pathlengths = jnp.array(np.zeros(num_rays))\n",
    "ones = jnp.array(np.ones(num_rays))\n",
    "amplitudes = jnp.array(np.ones(num_rays))\n",
    "radii_of_curv = jnp.array(np.full((num_rays, 2), np.inf))\n",
    "theta = jnp.array(np.zeros(num_rays))\n",
    "wavelength = wavelength\n",
    "wavelengths = jnp.array(np.full((num_rays,), wavelength))\n",
    "wo = wo\n",
    "waist_xy = jnp.array(np.full((num_rays, 2), wo))\n",
    "\n",
    "\n",
    "rays = GaussianRay(\n",
    "    x=xs, \n",
    "    y=ys, \n",
    "    dx=dxs,\n",
    "    dy=dys, \n",
    "    z=zs,\n",
    "    pathlength=pathlengths, \n",
    "    _one=ones, \n",
    "    amplitude=amplitudes, \n",
    "    waist_xy=waist_xy,  # 1x2 per Gaussian Ray\n",
    "    radii_of_curv=radii_of_curv,  # 1x2 per Gaussian Ray\n",
    "    wavelength=wavelengths, \n",
    "    theta=theta,\n",
    ")"
   ]
  },
  {
   "cell_type": "code",
   "execution_count": null,
   "id": "5dd4d2cb",
   "metadata": {},
   "outputs": [],
   "source": [
    "det_image = make_gaussian_image(rays, model, batch_size=1000)"
   ]
  },
  {
   "cell_type": "code",
   "execution_count": null,
   "id": "ff1f602a",
   "metadata": {},
   "outputs": [],
   "source": [
    "fig, (ax1, ax2) = plt.subplots(1, 2, figsize=(8, 4))\n",
    "img = np.abs(det_image)\n",
    "ax1.imshow(img, cmap=\"gray\")\n",
    "ax2.plot(img[img.shape[0]//2, :])\n",
    "\n",
    "fig, ax = plt.subplots()\n",
    "ax.imshow(np.angle(det_image), cmap=\"viridis\", vmin=-np.pi, vmax=np.pi)"
   ]
  }
 ],
 "metadata": {
  "kernelspec": {
   "display_name": "JaxGym (3.12.6)",
   "language": "python",
   "name": "python3"
  },
  "language_info": {
   "codemirror_mode": {
    "name": "ipython",
    "version": 3
   },
   "file_extension": ".py",
   "mimetype": "text/x-python",
   "name": "python",
   "nbconvert_exporter": "python",
   "pygments_lexer": "ipython3",
   "version": "3.12.6"
  }
 },
 "nbformat": 4,
 "nbformat_minor": 5
}
