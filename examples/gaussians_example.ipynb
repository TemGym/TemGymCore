{
 "cells": [
  {
   "cell_type": "code",
   "execution_count": null,
   "id": "9d45fe65",
   "metadata": {},
   "outputs": [],
   "source": [
    "import os\n",
    "os.environ['JAX_ENABLE_X64'] = '1'"
   ]
  },
  {
   "cell_type": "code",
   "execution_count": null,
   "id": "d8ed618f",
   "metadata": {},
   "outputs": [],
   "source": [
    "import numpy as np\n",
    "import jax.numpy as jnp\n",
    "from temgym_core.components import Lens, Detector\n",
    "from temgym_core.ray import GaussianRay\n",
    "from temgym_core.gaussian import get_image"
   ]
  },
  {
   "cell_type": "code",
   "execution_count": null,
   "id": "4ea5238f",
   "metadata": {},
   "outputs": [],
   "source": [
    "%matplotlib widget\n",
    "import matplotlib.pyplot as plt"
   ]
  },
  {
   "cell_type": "code",
   "execution_count": null,
   "id": "525c584f",
   "metadata": {},
   "outputs": [],
   "source": [
    "# Detector setup\n",
    "pixel_size = 5e-6\n",
    "shape = (2048, 2048)"
   ]
  },
  {
   "cell_type": "code",
   "execution_count": null,
   "id": "f977e10f",
   "metadata": {},
   "outputs": [],
   "source": [
    "# Model Creation\n",
    "f=5e-3\n",
    "z2 = (1 / f) ** -1 + 2e-3\n",
    "model = [Lens(z=0.0, focal_length=f), Detector(z=z2, pixel_size=(pixel_size, pixel_size), shape=shape)]"
   ]
  },
  {
   "cell_type": "code",
   "execution_count": null,
   "id": "aa1a74c5",
   "metadata": {},
   "outputs": [],
   "source": [
    "num_rays = 1024\n",
    "wavelength = 1e-4\n",
    "wo = 0.5e-3\n",
    "k = 2 * jnp.pi / wavelength\n",
    "\n",
    "# Gaussian Beam Input\n",
    "xs = jnp.array(np.random.uniform(-0.5e-3, 0.5e-3, num_rays))\n",
    "ys = jnp.array(np.random.uniform(-0.5e-3, 0.5e-3, num_rays))\n",
    "dxs = jnp.array(np.random.uniform(-0.5e-3, 0.5e-3, num_rays))\n",
    "dys = jnp.array(np.random.uniform(-0.5e-3, 0.5e-3, num_rays))\n",
    "zs = jnp.array(np.zeros(num_rays))\n",
    "pathlengths = jnp.array(np.zeros(num_rays))\n",
    "ones = jnp.array(np.ones(num_rays))\n",
    "amplitudes = jnp.array(np.ones(num_rays))\n",
    "radii_of_curv = jnp.array(np.full((num_rays, 2), np.inf))\n",
    "theta = jnp.array(np.zeros(num_rays))\n",
    "waist_xy = jnp.array(np.full((num_rays, 2), wo))\n",
    "\n",
    "rays = GaussianRay(\n",
    "    x=xs, \n",
    "    y=ys, \n",
    "    dx=dxs,\n",
    "    dy=dys, \n",
    "    z=zs,\n",
    "    pathlength=pathlengths, \n",
    "    _one=ones, \n",
    "    amplitude=amplitudes, \n",
    "    waist_xy=waist_xy,  # 1x2 per Gaussian Ray\n",
    "    radii_of_curv=radii_of_curv,  # 1x2 per Gaussian Ray\n",
    "    wavelength=wavelength, \n",
    "    theta=theta,\n",
    ")"
   ]
  },
  {
   "cell_type": "code",
   "execution_count": null,
   "id": "5dd4d2cb",
   "metadata": {},
   "outputs": [],
   "source": [
    "det_image = get_image(rays, model)"
   ]
  },
  {
   "cell_type": "code",
   "execution_count": null,
   "id": "ff1f602a",
   "metadata": {},
   "outputs": [],
   "source": [
    "fig, ax = plt.subplots()\n",
    "ax.imshow(np.abs(det_image), cmap=\"gray\")\n",
    "\n",
    "fig, ax = plt.subplots()\n",
    "ax.imshow(np.angle(det_image), cmap=\"gray\")"
   ]
  }
 ],
 "metadata": {
  "kernelspec": {
   "display_name": "JaxGym (3.12.6)",
   "language": "python",
   "name": "python3"
  },
  "language_info": {
   "codemirror_mode": {
    "name": "ipython",
    "version": 3
   },
   "file_extension": ".py",
   "mimetype": "text/x-python",
   "name": "python",
   "nbconvert_exporter": "python",
   "pygments_lexer": "ipython3",
   "version": "3.12.6"
  }
 },
 "nbformat": 4,
 "nbformat_minor": 5
}
