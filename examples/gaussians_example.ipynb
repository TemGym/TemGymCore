{
 "cells": [
  {
   "cell_type": "code",
   "execution_count": null,
   "id": "9d45fe65",
   "metadata": {},
   "outputs": [],
   "source": [
    "import os\n",
    "os.environ['JAX_ENABLE_X64'] = '1'"
   ]
  },
  {
   "cell_type": "code",
   "execution_count": null,
   "id": "d8ed618f",
   "metadata": {},
   "outputs": [],
   "source": [
    "import numpy as np\n",
    "import jax\n",
    "import jax.numpy as jnp\n",
    "from temgym_core.components import Lens, Detector\n",
    "from temgym_core.ray import Ray\n",
    "from temgym_core.gaussian import get_image, q_inv\n",
    "from temgym_core.propagator import FreeSpaceParaxial\n"
   ]
  },
  {
   "cell_type": "code",
   "execution_count": null,
   "id": "4ea5238f",
   "metadata": {},
   "outputs": [],
   "source": [
    "%matplotlib widget\n",
    "import matplotlib.pyplot as plt"
   ]
  },
  {
   "cell_type": "code",
   "execution_count": null,
   "id": "525c584f",
   "metadata": {},
   "outputs": [],
   "source": [
    "# Detector setup\n",
    "pixel_size = 5e-6\n",
    "shape = (2048, 2048)\n",
    "wavelength = 1e-4\n",
    "wo = 0.5e-1\n",
    "k = 2 * jnp.pi / wavelength"
   ]
  },
  {
   "cell_type": "code",
   "execution_count": null,
   "id": "f977e10f",
   "metadata": {},
   "outputs": [],
   "source": [
    "f=5e-3\n",
    "z2 = (1 / f) ** -1 + 2e-3\n",
    "model = [Lens(z=0.0, focal_length=f), Detector(z=z2, pixel_size=(pixel_size, pixel_size), shape=shape)]"
   ]
  },
  {
   "cell_type": "code",
   "execution_count": null,
   "id": "aa1a74c5",
   "metadata": {},
   "outputs": [],
   "source": [
    "xs = jnp.array([0.0, 0.5e-3])\n",
    "ys = jnp.array([0.0, 0.5e-3])\n",
    "dxs = jnp.array([0.0, 0.0])\n",
    "dys = jnp.array([0.0, 0.0])\n",
    "zs = jnp.array([0.0, 0.0])\n",
    "pathlengths = jnp.array([0.0, 0.0])\n",
    "ones = jnp.array([1.0, 1.0])\n",
    "\n",
    "rays = Ray(x=xs, y=ys, dx=dxs, dy=dys, z=zs, pathlength=pathlengths, _one=ones)"
   ]
  },
  {
   "cell_type": "code",
   "execution_count": null,
   "id": "5dd4d2cb",
   "metadata": {},
   "outputs": [],
   "source": [
    "amplitudes = jnp.array([1.0, 1.0])\n",
    "q1_invs = q_inv(jnp.array([0.0, 0.0]), jnp.array([wo, wo]), wavelength)\n",
    "\n",
    "Q1_invs = jnp.empty((0, 2, 2))\n",
    "for q1_inv in q1_invs:\n",
    "    Q1_inv = jnp.eye(2) * q1_inv\n",
    "    Q1_invs = jnp.append(Q1_invs, Q1_inv[None, ...], axis=0)\n",
    "\n",
    "det_image = get_image(rays, model, amplitudes, Q1_invs, wavelength)"
   ]
  },
  {
   "cell_type": "code",
   "execution_count": null,
   "id": "ff1f602a",
   "metadata": {},
   "outputs": [],
   "source": [
    "fig, ax = plt.subplots()\n",
    "ax.imshow(np.abs(det_image), cmap=\"gray\")"
   ]
  }
 ],
 "metadata": {
  "kernelspec": {
   "display_name": "JaxGym (3.12.6)",
   "language": "python",
   "name": "python3"
  },
  "language_info": {
   "codemirror_mode": {
    "name": "ipython",
    "version": 3
   },
   "file_extension": ".py",
   "mimetype": "text/x-python",
   "name": "python",
   "nbconvert_exporter": "python",
   "pygments_lexer": "ipython3",
   "version": "3.12.6"
  }
 },
 "nbformat": 4,
 "nbformat_minor": 5
}
